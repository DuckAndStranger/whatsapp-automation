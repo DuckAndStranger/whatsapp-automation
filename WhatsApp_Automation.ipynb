{
 "cells": [
  {
   "cell_type": "code",
   "execution_count": 6,
   "metadata": {},
   "outputs": [],
   "source": [
    "from selenium import webdriver\n",
    "# add your chromedriver.exe file path\n",
    "browser = webdriver.Chrome(\"C:/Users/Lavanya.DESKTOP-SIIUMJV/chromedriver_win32/chromedriver.exe\")\n",
    "browser.get(\"https://www.selenium.dev/\")\n",
    "search = browser.find_element_by_id(\"gsc-i-id1\")\n",
    "search.send_keys(\"Downloads\")"
   ]
  },
  {
   "cell_type": "code",
   "execution_count": 13,
   "metadata": {},
   "outputs": [
    {
     "name": "stdout",
     "output_type": "stream",
     "text": [
      "Enter the recipient name: Lachu\n",
      "1.Message\n",
      "2.Image\n",
      "2\n",
      "Enter the file path: C:/Users/Lavanya.DESKTOP-SIIUMJV/Pictures/Screenshots/Screenshot (53).png\n",
      "Image sent to Lachu\n"
     ]
    }
   ],
   "source": [
    "from selenium import webdriver\n",
    "from selenium.webdriver.support import expected_conditions as ec\n",
    "from selenium.webdriver.support.ui import WebDriverWait\n",
    "from selenium.webdriver.common.keys import Keys\n",
    "from selenium.webdriver.common.by import By\n",
    "import time\n",
    "from time import sleep\n",
    "\n",
    "# add your chromedriver.exe file path\n",
    "driver = webdriver.Chrome(\"C:/Users/Lavanya.DESKTOP-SIIUMJV/chromedriver_win32/chromedriver.exe\")\n",
    "driver.get(\"https://web.whatsapp.com/\")\n",
    "wait = WebDriverWait(driver,600)\n",
    "\n",
    "receiver = str(input(\"Enter the recipient name: \"))\n",
    "target = \"'\" + receiver + \"'\"\n",
    "\n",
    "print(\"1.Message\")\n",
    "print(\"2.Image\")\n",
    "n = int(input())\n",
    "\n",
    "x_arg = '//span[contains(@title, ' + target + ')]'\n",
    "target = wait.until(ec.presence_of_element_located((By.XPATH,x_arg)))\n",
    "target.click()\n",
    "\n",
    "if n==1:\n",
    "    message = input(\"Enter the message: \")\n",
    "    input_box = driver.find_element_by_class_name(\"_3uMse\")\n",
    "    input_box.send_keys(message+Keys.ENTER)\n",
    "    print(\"Message sent to\",receiver)\n",
    "    \n",
    "elif n==2:\n",
    "    filepath = input(\"Enter the file path: \")\n",
    "    attachment = driver.find_element_by_xpath('//div[@title=\"Attach\"]')\n",
    "    attachment.click()\n",
    "\n",
    "    image_box = driver.find_element_by_xpath('//input[@accept=\"image/*,video/mp4,video/3gpp,video/quicktime\"]')\n",
    "    image_box.send_keys(filepath)\n",
    "    sleep(3)\n",
    "\n",
    "    send_btn = driver.find_element_by_xpath('//span[@data-icon=\"send\"]')\n",
    "    send_btn.click()\n",
    "    print(\"Image sent to\",receiver)"
   ]
  },
  {
   "cell_type": "code",
   "execution_count": null,
   "metadata": {},
   "outputs": [],
   "source": []
  }
 ],
 "metadata": {
  "kernelspec": {
   "display_name": "Python 3",
   "language": "python",
   "name": "python3"
  },
  "language_info": {
   "codemirror_mode": {
    "name": "ipython",
    "version": 3
   },
   "file_extension": ".py",
   "mimetype": "text/x-python",
   "name": "python",
   "nbconvert_exporter": "python",
   "pygments_lexer": "ipython3",
   "version": "3.7.4"
  }
 },
 "nbformat": 4,
 "nbformat_minor": 2
}
